{
 "cells": [
  {
   "cell_type": "code",
   "execution_count": 1,
   "id": "baa53bbd",
   "metadata": {},
   "outputs": [],
   "source": [
    "import numpy as np\n",
    "import pandas as pd\n",
    "import os\n",
    "import gdown\n",
    "import torch\n",
    "import torch.nn as nn\n",
    "from sklearn.preprocessing import MinMaxScaler\n",
    "import matplotlib.pyplot as plt\n",
    "import random \n",
    "import itertools\n",
    "import mlflow\n",
    "import mlflow.pytorch\n",
    "from mlflow.models import infer_signature\n",
    "\n",
    "# Set MLflow to use the local file-based tracking server\n",
    "mlflow.set_tracking_uri(uri=\"http://127.0.0.1:5000\")\n",
    "\n",
    "# ---- Step 0: Set up the environment ----\n",
    "SEED = 42  # Set a seed for reproducibility\n",
    "random.seed(SEED)\n",
    "np.random.seed(SEED)\n",
    "torch.manual_seed(SEED)\n",
    "if torch.cuda.is_available():\n",
    "    torch.cuda.manual_seed_all(SEED)\n",
    "    \n",
    "# Set device\n",
    "device = torch.device(\"cuda\" if torch.cuda.is_available() else \"cpu\")\n",
    "\n",
    "# ---- Step 1: Prepare your data ----\n",
    "\n",
    "def create_sequences(data, window_size):\n",
    "    sequences = []\n",
    "    for i in range(len(data) - window_size):\n",
    "        seq = data[i:i+window_size]\n",
    "        sequences.append(seq)\n",
    "    return np.array(sequences)"
   ]
  },
  {
   "cell_type": "code",
   "execution_count": 2,
   "id": "2e26fd11",
   "metadata": {},
   "outputs": [],
   "source": [
    "train_file_names = os.listdir(\"train/\")\n",
    "train_file_names.sort()\n",
    "\n",
    "train_files = []\n",
    "for file in train_file_names:\n",
    "    train_files.append(pd.read_csv(f\"train/{file}\", sep=\";\"))\n",
    "\n",
    "test_file_names = os.listdir(\"test/\")\n",
    "test_file_names.sort()\n",
    "\n",
    "test_files = []\n",
    "for file in test_file_names:\n",
    "    test_files.append(pd.read_csv(f\"test/{file}\", sep=\";\"))\n",
    "\n",
    "# Concatenate all train files into one DataFrame\n",
    "all_train_df = pd.concat(train_files, ignore_index=True)\n",
    "values = all_train_df['Value1'].values.reshape(-1, 1)\n",
    "# print(\"Shape of values:\", values.shape)\n",
    "# print(\"First 5 values:\", values[:5])\n",
    "# Normalize\n",
    "scaler = MinMaxScaler()\n",
    "values_scaled = scaler.fit_transform(values)"
   ]
  },
  {
   "cell_type": "code",
   "execution_count": null,
   "id": "12188d0c",
   "metadata": {},
   "outputs": [],
   "source": [
    "class LSTMAutoencoder(nn.Module):\n",
    "    def __init__(self, seq_len, n_features, latent_dim):\n",
    "        super(LSTMAutoencoder, self).__init__()\n",
    "        self.encoder = nn.LSTM(input_size=n_features, hidden_size=latent_dim, batch_first=True)\n",
    "        self.decoder = nn.LSTM(input_size=latent_dim, hidden_size=n_features, batch_first=True)\n",
    "\n",
    "    def forward(self, x):\n",
    "        _, (hidden, _) = self.encoder(x)\n",
    "        latent = hidden.repeat(x.size(1), 1, 1).permute(1, 0, 2)\n",
    "        reconstructed, _ = self.decoder(latent)\n",
    "        return reconstructed"
   ]
  },
  {
   "cell_type": "code",
   "execution_count": 6,
   "id": "730d2c8f",
   "metadata": {},
   "outputs": [
    {
     "name": "stderr",
     "output_type": "stream",
     "text": [
      "2025/08/11 01:02:50 WARNING mlflow.models.signature: Failed to infer schema for inputs. Setting schema to `Schema([ColSpec(type=AnyType())]` as default. Note that MLflow doesn't validate data types during inference for AnyType. To see the full traceback, set logging level to DEBUG.\n",
      "2025/08/11 01:02:50 WARNING mlflow.models.signature: Failed to infer schema for outputs. Setting schema to `Schema([ColSpec(type=AnyType())]` as default. To see the full traceback, set logging level to DEBUG.\n",
      "2025/08/11 01:02:51 WARNING mlflow.models.model: `artifact_path` is deprecated. Please use `name` instead.\n"
     ]
    },
    {
     "name": "stdout",
     "output_type": "stream",
     "text": [
      "🏃 View run legendary-slug-260 at: http://127.0.0.1:5000/#/experiments/0/runs/f6a836b963a14b5194ed0fdc1d8c0d7e\n",
      "🧪 View experiment at: http://127.0.0.1:5000/#/experiments/0\n"
     ]
    },
    {
     "name": "stderr",
     "output_type": "stream",
     "text": [
      "2025/08/11 01:06:13 WARNING mlflow.models.signature: Failed to infer schema for inputs. Setting schema to `Schema([ColSpec(type=AnyType())]` as default. Note that MLflow doesn't validate data types during inference for AnyType. To see the full traceback, set logging level to DEBUG.\n",
      "2025/08/11 01:06:13 WARNING mlflow.models.signature: Failed to infer schema for outputs. Setting schema to `Schema([ColSpec(type=AnyType())]` as default. To see the full traceback, set logging level to DEBUG.\n",
      "2025/08/11 01:06:15 WARNING mlflow.models.model: `artifact_path` is deprecated. Please use `name` instead.\n"
     ]
    },
    {
     "name": "stdout",
     "output_type": "stream",
     "text": [
      "🏃 View run awesome-bee-891 at: http://127.0.0.1:5000/#/experiments/0/runs/f461ed9521f44d26babf6239da27ef4c\n",
      "🧪 View experiment at: http://127.0.0.1:5000/#/experiments/0\n"
     ]
    },
    {
     "name": "stderr",
     "output_type": "stream",
     "text": [
      "2025/08/11 01:12:29 WARNING mlflow.models.signature: Failed to infer schema for inputs. Setting schema to `Schema([ColSpec(type=AnyType())]` as default. Note that MLflow doesn't validate data types during inference for AnyType. To see the full traceback, set logging level to DEBUG.\n",
      "2025/08/11 01:12:29 WARNING mlflow.models.signature: Failed to infer schema for outputs. Setting schema to `Schema([ColSpec(type=AnyType())]` as default. To see the full traceback, set logging level to DEBUG.\n",
      "2025/08/11 01:12:31 WARNING mlflow.models.model: `artifact_path` is deprecated. Please use `name` instead.\n"
     ]
    },
    {
     "name": "stdout",
     "output_type": "stream",
     "text": [
      "🏃 View run kindly-grub-58 at: http://127.0.0.1:5000/#/experiments/0/runs/dd295fe0bfdb4e3fb31de5941000d014\n",
      "🧪 View experiment at: http://127.0.0.1:5000/#/experiments/0\n"
     ]
    },
    {
     "name": "stderr",
     "output_type": "stream",
     "text": [
      "2025/08/11 01:15:50 WARNING mlflow.models.signature: Failed to infer schema for inputs. Setting schema to `Schema([ColSpec(type=AnyType())]` as default. Note that MLflow doesn't validate data types during inference for AnyType. To see the full traceback, set logging level to DEBUG.\n",
      "2025/08/11 01:15:50 WARNING mlflow.models.signature: Failed to infer schema for outputs. Setting schema to `Schema([ColSpec(type=AnyType())]` as default. To see the full traceback, set logging level to DEBUG.\n",
      "2025/08/11 01:15:51 WARNING mlflow.models.model: `artifact_path` is deprecated. Please use `name` instead.\n"
     ]
    },
    {
     "name": "stdout",
     "output_type": "stream",
     "text": [
      "🏃 View run defiant-shrimp-713 at: http://127.0.0.1:5000/#/experiments/0/runs/eba34396f197439c95e85a257f5eea96\n",
      "🧪 View experiment at: http://127.0.0.1:5000/#/experiments/0\n"
     ]
    },
    {
     "name": "stderr",
     "output_type": "stream",
     "text": [
      "2025/08/11 01:38:47 WARNING mlflow.models.signature: Failed to infer schema for inputs. Setting schema to `Schema([ColSpec(type=AnyType())]` as default. Note that MLflow doesn't validate data types during inference for AnyType. To see the full traceback, set logging level to DEBUG.\n",
      "2025/08/11 01:38:47 WARNING mlflow.models.signature: Failed to infer schema for outputs. Setting schema to `Schema([ColSpec(type=AnyType())]` as default. To see the full traceback, set logging level to DEBUG.\n",
      "2025/08/11 01:38:49 WARNING mlflow.models.model: `artifact_path` is deprecated. Please use `name` instead.\n"
     ]
    },
    {
     "name": "stdout",
     "output_type": "stream",
     "text": [
      "🏃 View run youthful-yak-892 at: http://127.0.0.1:5000/#/experiments/0/runs/35be7b8715ca417697d4f687e02f94c6\n",
      "🧪 View experiment at: http://127.0.0.1:5000/#/experiments/0\n"
     ]
    },
    {
     "name": "stderr",
     "output_type": "stream",
     "text": [
      "2025/08/11 01:43:42 WARNING mlflow.models.signature: Failed to infer schema for inputs. Setting schema to `Schema([ColSpec(type=AnyType())]` as default. Note that MLflow doesn't validate data types during inference for AnyType. To see the full traceback, set logging level to DEBUG.\n",
      "2025/08/11 01:43:42 WARNING mlflow.models.signature: Failed to infer schema for outputs. Setting schema to `Schema([ColSpec(type=AnyType())]` as default. To see the full traceback, set logging level to DEBUG.\n",
      "2025/08/11 01:43:43 WARNING mlflow.models.model: `artifact_path` is deprecated. Please use `name` instead.\n"
     ]
    },
    {
     "name": "stdout",
     "output_type": "stream",
     "text": [
      "🏃 View run auspicious-fowl-257 at: http://127.0.0.1:5000/#/experiments/0/runs/c4026f29b64f4533bb0bbb9a714f3096\n",
      "🧪 View experiment at: http://127.0.0.1:5000/#/experiments/0\n"
     ]
    },
    {
     "name": "stderr",
     "output_type": "stream",
     "text": [
      "2025/08/11 01:50:25 WARNING mlflow.models.signature: Failed to infer schema for inputs. Setting schema to `Schema([ColSpec(type=AnyType())]` as default. Note that MLflow doesn't validate data types during inference for AnyType. To see the full traceback, set logging level to DEBUG.\n",
      "2025/08/11 01:50:25 WARNING mlflow.models.signature: Failed to infer schema for outputs. Setting schema to `Schema([ColSpec(type=AnyType())]` as default. To see the full traceback, set logging level to DEBUG.\n",
      "2025/08/11 01:50:27 WARNING mlflow.models.model: `artifact_path` is deprecated. Please use `name` instead.\n"
     ]
    },
    {
     "name": "stdout",
     "output_type": "stream",
     "text": [
      "🏃 View run trusting-kite-809 at: http://127.0.0.1:5000/#/experiments/0/runs/98659a7d28164da6be3c3dcaea183f3c\n",
      "🧪 View experiment at: http://127.0.0.1:5000/#/experiments/0\n"
     ]
    },
    {
     "name": "stderr",
     "output_type": "stream",
     "text": [
      "2025/08/11 01:53:59 WARNING mlflow.models.signature: Failed to infer schema for inputs. Setting schema to `Schema([ColSpec(type=AnyType())]` as default. Note that MLflow doesn't validate data types during inference for AnyType. To see the full traceback, set logging level to DEBUG.\n",
      "2025/08/11 01:53:59 WARNING mlflow.models.signature: Failed to infer schema for outputs. Setting schema to `Schema([ColSpec(type=AnyType())]` as default. To see the full traceback, set logging level to DEBUG.\n",
      "2025/08/11 01:54:01 WARNING mlflow.models.model: `artifact_path` is deprecated. Please use `name` instead.\n"
     ]
    },
    {
     "name": "stdout",
     "output_type": "stream",
     "text": [
      "🏃 View run resilient-horse-497 at: http://127.0.0.1:5000/#/experiments/0/runs/d53a5a22ce7f4ee5b66c104a43a5bb32\n",
      "🧪 View experiment at: http://127.0.0.1:5000/#/experiments/0\n"
     ]
    },
    {
     "name": "stderr",
     "output_type": "stream",
     "text": [
      "2025/08/11 03:23:18 WARNING mlflow.models.signature: Failed to infer schema for inputs. Setting schema to `Schema([ColSpec(type=AnyType())]` as default. Note that MLflow doesn't validate data types during inference for AnyType. To see the full traceback, set logging level to DEBUG.\n",
      "2025/08/11 03:23:18 WARNING mlflow.models.signature: Failed to infer schema for outputs. Setting schema to `Schema([ColSpec(type=AnyType())]` as default. To see the full traceback, set logging level to DEBUG.\n",
      "2025/08/11 03:23:20 WARNING mlflow.models.model: `artifact_path` is deprecated. Please use `name` instead.\n"
     ]
    },
    {
     "name": "stdout",
     "output_type": "stream",
     "text": [
      "🏃 View run inquisitive-hog-604 at: http://127.0.0.1:5000/#/experiments/0/runs/c8548c38504a4737926c42c99ce064ed\n",
      "🧪 View experiment at: http://127.0.0.1:5000/#/experiments/0\n"
     ]
    },
    {
     "name": "stderr",
     "output_type": "stream",
     "text": [
      "2025/08/11 03:59:32 WARNING mlflow.models.signature: Failed to infer schema for inputs. Setting schema to `Schema([ColSpec(type=AnyType())]` as default. Note that MLflow doesn't validate data types during inference for AnyType. To see the full traceback, set logging level to DEBUG.\n",
      "2025/08/11 03:59:32 WARNING mlflow.models.signature: Failed to infer schema for outputs. Setting schema to `Schema([ColSpec(type=AnyType())]` as default. To see the full traceback, set logging level to DEBUG.\n",
      "2025/08/11 03:59:35 WARNING mlflow.models.model: `artifact_path` is deprecated. Please use `name` instead.\n"
     ]
    },
    {
     "name": "stdout",
     "output_type": "stream",
     "text": [
      "🏃 View run bustling-finch-99 at: http://127.0.0.1:5000/#/experiments/0/runs/cd3d0eaec954498ba00b8a8fb989a235\n",
      "🧪 View experiment at: http://127.0.0.1:5000/#/experiments/0\n"
     ]
    },
    {
     "name": "stderr",
     "output_type": "stream",
     "text": [
      "2025/08/11 04:43:33 WARNING mlflow.models.signature: Failed to infer schema for inputs. Setting schema to `Schema([ColSpec(type=AnyType())]` as default. Note that MLflow doesn't validate data types during inference for AnyType. To see the full traceback, set logging level to DEBUG.\n",
      "2025/08/11 04:43:33 WARNING mlflow.models.signature: Failed to infer schema for outputs. Setting schema to `Schema([ColSpec(type=AnyType())]` as default. To see the full traceback, set logging level to DEBUG.\n",
      "2025/08/11 04:43:36 WARNING mlflow.models.model: `artifact_path` is deprecated. Please use `name` instead.\n"
     ]
    },
    {
     "name": "stdout",
     "output_type": "stream",
     "text": [
      "🏃 View run ambitious-ape-622 at: http://127.0.0.1:5000/#/experiments/0/runs/179da3a8c22c47188c265bc5274b7a67\n",
      "🧪 View experiment at: http://127.0.0.1:5000/#/experiments/0\n"
     ]
    },
    {
     "name": "stderr",
     "output_type": "stream",
     "text": [
      "2025/08/11 04:50:35 WARNING mlflow.models.signature: Failed to infer schema for inputs. Setting schema to `Schema([ColSpec(type=AnyType())]` as default. Note that MLflow doesn't validate data types during inference for AnyType. To see the full traceback, set logging level to DEBUG.\n",
      "2025/08/11 04:50:35 WARNING mlflow.models.signature: Failed to infer schema for outputs. Setting schema to `Schema([ColSpec(type=AnyType())]` as default. To see the full traceback, set logging level to DEBUG.\n",
      "2025/08/11 04:50:38 WARNING mlflow.models.model: `artifact_path` is deprecated. Please use `name` instead.\n"
     ]
    },
    {
     "name": "stdout",
     "output_type": "stream",
     "text": [
      "🏃 View run stately-calf-313 at: http://127.0.0.1:5000/#/experiments/0/runs/c872d151f60840519eb3a423153f6589\n",
      "🧪 View experiment at: http://127.0.0.1:5000/#/experiments/0\n"
     ]
    },
    {
     "name": "stderr",
     "output_type": "stream",
     "text": [
      "2025/08/11 06:04:01 WARNING mlflow.models.signature: Failed to infer schema for inputs. Setting schema to `Schema([ColSpec(type=AnyType())]` as default. Note that MLflow doesn't validate data types during inference for AnyType. To see the full traceback, set logging level to DEBUG.\n",
      "2025/08/11 06:04:01 WARNING mlflow.models.signature: Failed to infer schema for outputs. Setting schema to `Schema([ColSpec(type=AnyType())]` as default. To see the full traceback, set logging level to DEBUG.\n",
      "2025/08/11 06:04:05 WARNING mlflow.models.model: `artifact_path` is deprecated. Please use `name` instead.\n"
     ]
    },
    {
     "name": "stdout",
     "output_type": "stream",
     "text": [
      "🏃 View run debonair-hog-182 at: http://127.0.0.1:5000/#/experiments/0/runs/cb0cc43eddf340b4850e8f3cf0ab883b\n",
      "🧪 View experiment at: http://127.0.0.1:5000/#/experiments/0\n"
     ]
    },
    {
     "name": "stderr",
     "output_type": "stream",
     "text": [
      "2025/08/11 07:12:47 WARNING mlflow.models.signature: Failed to infer schema for inputs. Setting schema to `Schema([ColSpec(type=AnyType())]` as default. Note that MLflow doesn't validate data types during inference for AnyType. To see the full traceback, set logging level to DEBUG.\n",
      "2025/08/11 07:12:47 WARNING mlflow.models.signature: Failed to infer schema for outputs. Setting schema to `Schema([ColSpec(type=AnyType())]` as default. To see the full traceback, set logging level to DEBUG.\n",
      "2025/08/11 07:12:51 WARNING mlflow.models.model: `artifact_path` is deprecated. Please use `name` instead.\n"
     ]
    },
    {
     "name": "stdout",
     "output_type": "stream",
     "text": [
      "🏃 View run amusing-ape-572 at: http://127.0.0.1:5000/#/experiments/0/runs/3d27dbd2ac72486cb251291a336e2971\n",
      "🧪 View experiment at: http://127.0.0.1:5000/#/experiments/0\n"
     ]
    },
    {
     "name": "stderr",
     "output_type": "stream",
     "text": [
      "2025/08/11 08:46:00 WARNING mlflow.models.signature: Failed to infer schema for inputs. Setting schema to `Schema([ColSpec(type=AnyType())]` as default. Note that MLflow doesn't validate data types during inference for AnyType. To see the full traceback, set logging level to DEBUG.\n",
      "2025/08/11 08:46:00 WARNING mlflow.models.signature: Failed to infer schema for outputs. Setting schema to `Schema([ColSpec(type=AnyType())]` as default. To see the full traceback, set logging level to DEBUG.\n",
      "2025/08/11 08:46:04 WARNING mlflow.models.model: `artifact_path` is deprecated. Please use `name` instead.\n"
     ]
    },
    {
     "name": "stdout",
     "output_type": "stream",
     "text": [
      "🏃 View run abundant-doe-126 at: http://127.0.0.1:5000/#/experiments/0/runs/23ada7bfc15747f29eb210b178532087\n",
      "🧪 View experiment at: http://127.0.0.1:5000/#/experiments/0\n"
     ]
    },
    {
     "name": "stderr",
     "output_type": "stream",
     "text": [
      "2025/08/11 08:53:46 WARNING mlflow.models.signature: Failed to infer schema for inputs. Setting schema to `Schema([ColSpec(type=AnyType())]` as default. Note that MLflow doesn't validate data types during inference for AnyType. To see the full traceback, set logging level to DEBUG.\n",
      "2025/08/11 08:53:46 WARNING mlflow.models.signature: Failed to infer schema for outputs. Setting schema to `Schema([ColSpec(type=AnyType())]` as default. To see the full traceback, set logging level to DEBUG.\n",
      "2025/08/11 08:53:50 WARNING mlflow.models.model: `artifact_path` is deprecated. Please use `name` instead.\n"
     ]
    },
    {
     "name": "stdout",
     "output_type": "stream",
     "text": [
      "🏃 View run persistent-worm-420 at: http://127.0.0.1:5000/#/experiments/0/runs/e72374dcc5af4f5c9f59724c2bc7c3ff\n",
      "🧪 View experiment at: http://127.0.0.1:5000/#/experiments/0\n"
     ]
    }
   ],
   "source": [
    "# Define your hyperparameter grid\n",
    "window_sizes = [10, 25]\n",
    "latent_dims = [8, 16]\n",
    "learning_rates = [1e-3, 1e-4]\n",
    "batch_sizes = [32, 64]\n",
    "EPOCHS = 10\n",
    "\n",
    "for WINDOW_SIZE, latent_dim, learning_rate, BATCH_SIZE in itertools.product(window_sizes, latent_dims, learning_rates, batch_sizes):\n",
    "    with mlflow.start_run():\n",
    "        # Log hyperparameters\n",
    "        mlflow.log_param(\"WINDOW_SIZE\", WINDOW_SIZE)\n",
    "        mlflow.log_param(\"latent_dim\", latent_dim)\n",
    "        mlflow.log_param(\"learning_rate\", learning_rate)\n",
    "        mlflow.log_param(\"BATCH_SIZE\", BATCH_SIZE)\n",
    "        mlflow.log_param(\"EPOCHS\", EPOCHS)\n",
    "\n",
    "        # Prepare data\n",
    "        values = all_train_df['Value1'].values.reshape(-1, 1)\n",
    "        scaler = MinMaxScaler()\n",
    "        values_scaled = scaler.fit_transform(values)\n",
    "        sequences = create_sequences(values_scaled, WINDOW_SIZE)\n",
    "        sequences_tensor = torch.tensor(sequences, dtype=torch.float32).to(device)\n",
    "\n",
    "        # Model, optimizer, loss\n",
    "        model = LSTMAutoencoder(seq_len=WINDOW_SIZE, n_features=1, latent_dim=latent_dim).to(device)\n",
    "        criterion = nn.MSELoss()\n",
    "        optimizer = torch.optim.Adam(model.parameters(), lr=learning_rate)\n",
    "\n",
    "        # Training loop\n",
    "        model.train()\n",
    "        for epoch in range(EPOCHS):\n",
    "            for i in range(0, len(sequences_tensor), BATCH_SIZE):\n",
    "                batch = sequences_tensor[i:i+BATCH_SIZE]\n",
    "                optimizer.zero_grad()\n",
    "                output = model(batch)\n",
    "                loss = criterion(output, batch)\n",
    "                loss.backward()\n",
    "                optimizer.step()\n",
    "            mlflow.log_metric(\"train_loss\", loss.item(), step=epoch)\n",
    "\n",
    "        inference_signature = infer_signature(sequences_tensor[0:0+BATCH_SIZE], model(sequences_tensor[0:0+BATCH_SIZE]))\n",
    "\n",
    "        correct = 0\n",
    "        for test in test_files:\n",
    "            # Evaluation (example on first test file)\n",
    "            test_values = test['Value1'].values.reshape(-1, 1)\n",
    "            test_scaled = scaler.transform(test_values)\n",
    "            test_sequences = create_sequences(test_scaled, WINDOW_SIZE)\n",
    "            test_tensor = torch.tensor(test_sequences, dtype=torch.float32).to(device)\n",
    "\n",
    "            model.eval()\n",
    "            with torch.no_grad():\n",
    "                reconstructed = model(test_tensor)\n",
    "                test_loss = torch.mean((reconstructed - test_tensor) ** 2, dim=(1, 2)).cpu().numpy()\n",
    "\n",
    "            threshold = np.percentile(test_loss, 95)\n",
    "            prediction_index = np.argmax(test_loss) + WINDOW_SIZE\n",
    "            score = int(test.loc[prediction_index, \"Labels\"] == 1)\n",
    "            correct += score\n",
    "            \n",
    "        mlflow.log_metric(\"test_score\", correct)\n",
    "        mlflow.pytorch.log_model(model, \"LSTM Autoencoder\"\n",
    "                                    , signature=inference_signature\n",
    "                                    )"
   ]
  },
  {
   "cell_type": "code",
   "execution_count": null,
   "id": "c030d006",
   "metadata": {},
   "outputs": [],
   "source": [
    "# To shut down mlflow \n",
    "mlflow.end_run()"
   ]
  }
 ],
 "metadata": {
  "kernelspec": {
   "display_name": ".venv",
   "language": "python",
   "name": "python3"
  },
  "language_info": {
   "codemirror_mode": {
    "name": "ipython",
    "version": 3
   },
   "file_extension": ".py",
   "mimetype": "text/x-python",
   "name": "python",
   "nbconvert_exporter": "python",
   "pygments_lexer": "ipython3",
   "version": "3.12.3"
  }
 },
 "nbformat": 4,
 "nbformat_minor": 5
}
